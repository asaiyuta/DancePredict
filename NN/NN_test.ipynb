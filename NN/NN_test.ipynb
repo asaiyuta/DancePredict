{
 "cells": [
  {
   "cell_type": "code",
   "execution_count": 1,
   "metadata": {},
   "outputs": [],
   "source": [
    "import NN\n",
    "import Batch_Gen_Mod\n",
    "import tensorflow as tf\n",
    "import numpy as np"
   ]
  },
  {
   "cell_type": "code",
   "execution_count": 2,
   "metadata": {},
   "outputs": [
    {
     "name": "stdout",
     "output_type": "stream",
     "text": [
      "kinect_data exist shaped data csv\n",
      "batch_gen 001_shape_scale_100\n",
      "batch_gen exist pickle file data/001_shape_scale_100.pickle\n",
      "batch_gen length = 3840 dim = 75\n"
     ]
    }
   ],
   "source": [
    "batch_gen = Batch_Gen_Mod.kinect_data(\"data/001.csv\", 0.01).create_batch_gen()"
   ]
  },
  {
   "cell_type": "code",
   "execution_count": 3,
   "metadata": {},
   "outputs": [
    {
     "name": "stdout",
     "output_type": "stream",
     "text": [
      "WARNING:tensorflow:From <ipython-input-3-704e91cd298e>:10: initialize_all_variables (from tensorflow.python.ops.variables) is deprecated and will be removed after 2017-03-02.\n",
      "Instructions for updating:\n",
      "Use `tf.global_variables_initializer` instead.\n",
      "train_loss [0.56960696]\n",
      "train_loss [0.039409023]\n",
      "train_loss [0.028794384]\n",
      "train_loss [0.028254362]\n",
      "train_loss [0.02164057]\n",
      "train_loss [0.020944513]\n",
      "train_loss [0.023211494]\n",
      "train_loss [0.02010574]\n",
      "train_loss [0.020738825]\n",
      "train_loss [0.019208347]\n",
      "train_loss [0.022288142]\n",
      "train_loss [0.017327424]\n",
      "train_loss [0.017367136]\n",
      "train_loss [0.018294537]\n",
      "train_loss [0.016063893]\n",
      "train_loss [0.01596375]\n",
      "train_loss [0.01644564]\n",
      "train_loss [0.014922421]\n",
      "train_loss [0.013507263]\n",
      "train_loss [0.014710209]\n",
      "train_loss [0.013390214]\n",
      "train_loss [0.014187444]\n",
      "train_loss [0.01246769]\n",
      "train_loss [0.0121921655]\n",
      "train_loss [0.012221721]\n",
      "train_loss [0.011543298]\n",
      "train_loss [0.011689812]\n",
      "train_loss [0.011674389]\n",
      "train_loss [0.011702842]\n",
      "train_loss [0.00967625]\n",
      "train_loss [0.01230618]\n",
      "train_loss [0.009993824]\n",
      "train_loss [0.010228183]\n",
      "train_loss [0.009927296]\n",
      "train_loss [0.009599313]\n",
      "train_loss [0.011012166]\n",
      "train_loss [0.009040253]\n",
      "train_loss [0.009324915]\n",
      "train_loss [0.009101359]\n",
      "train_loss [0.008693042]\n"
     ]
    }
   ],
   "source": [
    "\n",
    "def train(num_of_epoch,  batch_size, learning_rate):\n",
    "    input_elements_ph, supervisor_elements_ph, cross_entropy, train_step, predict = NN.position2position_cnstruct(\n",
    "                                num_of_element = 75,\n",
    "                               num_of_frm = 45,\n",
    "                               hidden_size = [1000,500,100,75],\n",
    "                               f_tuning = False,\n",
    "                               leaning_rate = learning_rate)\n",
    "    \n",
    "    init = tf.initialize_all_variables()\n",
    "    sess = tf.Session()\n",
    "    sess.run(init)\n",
    "    saver = tf.train.Saver()\n",
    "    for _ in range(num_of_epoch):\n",
    "        inputs, supervisors = batch_gen.get_train_batch(index=_, batch_size=batch_size , input_size=45, dist=15)\n",
    "        train_dict = {\n",
    "            input_elements_ph:            inputs,\n",
    "            supervisor_elements_ph:   supervisors,\n",
    "        }\n",
    "        sess.run(train_step, feed_dict=train_dict)\n",
    "        if _ % 1000 == 0:\n",
    "            train_loss = sess.run([cross_entropy], feed_dict=train_dict)\n",
    "            print(\"train_loss\",train_loss)\n",
    "            \n",
    "train(num_of_epoch = 40000,  batch_size = 200, learning_rate = 0.001)"
   ]
  },
  {
   "cell_type": "code",
   "execution_count": null,
   "metadata": {},
   "outputs": [],
   "source": []
  }
 ],
 "metadata": {
  "kernelspec": {
   "display_name": "Python 3",
   "language": "python",
   "name": "python3"
  },
  "language_info": {
   "codemirror_mode": {
    "name": "ipython",
    "version": 3
   },
   "file_extension": ".py",
   "mimetype": "text/x-python",
   "name": "python",
   "nbconvert_exporter": "python",
   "pygments_lexer": "ipython3",
   "version": "3.6.4"
  }
 },
 "nbformat": 4,
 "nbformat_minor": 2
}
